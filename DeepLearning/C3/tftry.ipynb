{
 "cells": [
  {
   "cell_type": "code",
   "execution_count": 5,
   "metadata": {},
   "outputs": [],
   "source": [
    "import numpy as np"
   ]
  },
  {
   "cell_type": "code",
   "execution_count": 6,
   "metadata": {},
   "outputs": [],
   "source": [
    "import tensorflow as tf"
   ]
  },
  {
   "cell_type": "code",
   "execution_count": 12,
   "metadata": {},
   "outputs": [
    {
     "name": "stdout",
     "output_type": "stream",
     "text": [
      "[[5 2 3]\n",
      " [4 5 6]]\n",
      "[0 1 1]\n",
      "[5 5 6]\n"
     ]
    }
   ],
   "source": [
    "# Define a 2D tensor\n",
    "tensor = tf.constant([[5, 2, 3], [4, 5, 6]])\n",
    "print(tensor.numpy())\n",
    "# Find the index of the maximum value along axis 0\n",
    "argmax_indices = tf.argmax(tensor, axis=0)\n",
    "print(argmax_indices.numpy()) # [1 1 1]\n",
    "\n",
    "# Find the maximum value along axis 0\n",
    "max_values = tf.reduce_max(tensor, axis=0)\n",
    "print(max_values.numpy()) # [4 5 6]"
   ]
  },
  {
   "cell_type": "code",
   "execution_count": null,
   "metadata": {},
   "outputs": [],
   "source": []
  }
 ],
 "metadata": {
  "kernelspec": {
   "display_name": "Python 3",
   "language": "python",
   "name": "python3"
  },
  "language_info": {
   "codemirror_mode": {
    "name": "ipython",
    "version": 3
   },
   "file_extension": ".py",
   "mimetype": "text/x-python",
   "name": "python",
   "nbconvert_exporter": "python",
   "pygments_lexer": "ipython3",
   "version": "3.8.5"
  },
  "orig_nbformat": 4
 },
 "nbformat": 4,
 "nbformat_minor": 2
}
